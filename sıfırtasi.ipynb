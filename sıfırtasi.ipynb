{
  "nbformat": 4,
  "nbformat_minor": 0,
  "metadata": {
    "colab": {
      "name": "Colaboratory'ye Hoş Geldiniz",
      "provenance": [],
      "collapsed_sections": [],
      "toc_visible": true,
      "include_colab_link": true
    },
    "kernelspec": {
      "display_name": "Python 3",
      "name": "python3"
    }
  },
  "cells": [
    {
      "cell_type": "markdown",
      "metadata": {
        "id": "view-in-github",
        "colab_type": "text"
      },
      "source": [
        "<a href=\"https://colab.research.google.com/github/emelturkmen/pg1926/blob/main/s%C4%B1f%C4%B1rtasi.ipynb\" target=\"_parent\"><img src=\"https://colab.research.google.com/assets/colab-badge.svg\" alt=\"Open In Colab\"/></a>"
      ]
    },
    {
      "cell_type": "code",
      "metadata": {
        "colab": {
          "base_uri": "https://localhost:8080/"
        },
        "id": "gJqlv4e_D06f",
        "outputId": "c71ae62c-2ba2-438b-f2ac-36a2cc8d5810"
      },
      "source": [
        "sayilar=[]\r\n",
        "adet1=0\r\n",
        "adet=int(input(\"Adet: \"))\r\n",
        "\r\n",
        "for i in range(adet):\r\n",
        "  sayi=int(input(\"{} sayı:  \".format(i+1)))\r\n",
        "  if sayi==0:\r\n",
        "    adet1=adet1+1\r\n",
        "  sayilar=sayilar+[sayi]\r\n",
        "  if (i+1)==adet:\r\n",
        "    print(sayilar)\r\n",
        "\r\n",
        "print(\"-----------\")\r\n",
        "sayilar2=[]\r\n",
        "for i in range(adet1):\r\n",
        "  sayilar2+=[0]\r\n",
        "  if(i+1)==adet1:\r\n",
        "    print(sayilar2)\r\n",
        "sayilar3=[]\r\n",
        "for i in range(adet):\r\n",
        "  if (0 in sayilar):\r\n",
        "    sayilar.remove(0)\r\n",
        "print(\"-----------\")\r\n",
        "sayilar3.append(sayilar2)\r\n",
        "sayilar3.append(sayilar)\r\n",
        "print(sayilar3)\r\n",
        "\r\n"
      ],
      "execution_count": 1,
      "outputs": [
        {
          "output_type": "stream",
          "text": [
            "Adet: 5\n",
            "1 sayı:  1\n",
            "2 sayı:  3\n",
            "3 sayı:  5\n",
            "4 sayı:  9\n",
            "5 sayı:  10\n",
            "[1, 3, 5, 9, 10]\n",
            "-----------\n",
            "-----------\n",
            "[[], [1, 3, 5, 9, 10]]\n"
          ],
          "name": "stdout"
        }
      ]
    }
  ]
}