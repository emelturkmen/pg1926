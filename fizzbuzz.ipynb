{
  "nbformat": 4,
  "nbformat_minor": 0,
  "metadata": {
    "colab": {
      "name": "Colaboratory'ye Hoş Geldiniz",
      "provenance": [],
      "collapsed_sections": [],
      "toc_visible": true,
      "include_colab_link": true
    },
    "kernelspec": {
      "display_name": "Python 3",
      "name": "python3"
    }
  },
  "cells": [
    {
      "cell_type": "markdown",
      "metadata": {
        "id": "view-in-github",
        "colab_type": "text"
      },
      "source": [
        "<a href=\"https://colab.research.google.com/github/emelturkmen/pg1926/blob/main/fizzbuzz.ipynb\" target=\"_parent\"><img src=\"https://colab.research.google.com/assets/colab-badge.svg\" alt=\"Open In Colab\"/></a>"
      ]
    },
    {
      "cell_type": "code",
      "metadata": {
        "id": "shDoOLU6GfEZ",
        "outputId": "8db9ce3b-cae7-4b20-d378-e61ec854070b",
        "colab": {
          "base_uri": "https://localhost:8080/"
        }
      },
      "source": [
        "sayi1=input('1.Sayı: ')\r\n",
        "sayi2=input('2.Sayı: ')\r\n",
        "\r\n",
        "if sayi1>sayi2:\r\n",
        "  print(\"2.Sayı 1.Sayıdan Büyük Olmalıdır.\")\r\n",
        "elif sayi1==sayi2:\r\n",
        "  print(\"Sayılar Birbirine Eşit Olamaz.\")\r\n",
        "else:\r\n",
        "  for i in range(int(sayi1),int(sayi2)+1,1):\r\n",
        "    if i%3==0 and i%5!=0:\r\n",
        "      print(\"Fizz\")\r\n",
        "    elif i%5==0 and i%3!=0:\r\n",
        "      print(\"Buzz\")\r\n",
        "    elif i%3==0 and i%5==0:\r\n",
        "      print(\"FizzBuzz\")\r\n",
        "    else:\r\n",
        "      print(i)\r\n"
      ],
      "execution_count": 2,
      "outputs": [
        {
          "output_type": "stream",
          "text": [
            "1.Sayı: 5\n",
            "2.Sayı: 6\n",
            "Buzz\n",
            "Fizz\n"
          ],
          "name": "stdout"
        }
      ]
    }
  ]
}