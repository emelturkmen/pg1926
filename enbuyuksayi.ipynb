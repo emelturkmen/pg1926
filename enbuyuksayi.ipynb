{
  "nbformat": 4,
  "nbformat_minor": 0,
  "metadata": {
    "colab": {
      "name": "Colaboratory'ye Hoş Geldiniz",
      "provenance": [],
      "collapsed_sections": [],
      "toc_visible": true,
      "include_colab_link": true
    },
    "kernelspec": {
      "display_name": "Python 3",
      "name": "python3"
    }
  },
  "cells": [
    {
      "cell_type": "markdown",
      "metadata": {
        "id": "view-in-github",
        "colab_type": "text"
      },
      "source": [
        "<a href=\"https://colab.research.google.com/github/emelturkmen/pg1926/blob/main/enbuyuksayi.ipynb\" target=\"_parent\"><img src=\"https://colab.research.google.com/assets/colab-badge.svg\" alt=\"Open In Colab\"/></a>"
      ]
    },
    {
      "cell_type": "code",
      "metadata": {
        "id": "gJqlv4e_D06f"
      },
      "source": [
        "sayilar=[]\r\n",
        "adet=int(input(\"Adet Giriniz: \"))\r\n",
        "print(\"-------------------------------\")\r\n",
        "for i in range(adet):\r\n",
        "  sayi=int(input(\"{}. sayıyı gir: \".format(i+1)))\r\n",
        "  sayilar+=[sayi]\r\n",
        "\r\n",
        "print(\"-------------------------------\")\r\n",
        "\r\n",
        "enBuyuk=sayilar[0]\r\n",
        "\r\n",
        "for i in range(adet):\r\n",
        "  if enBuyuk<sayilar[i]:\r\n",
        "    enBuyuk=sayilar[i]\r\n",
        "print(\"-------------------------------\")\r\n",
        "print(enBuyuk)\r\n"
      ],
      "execution_count": null,
      "outputs": []
    }
  ]
}